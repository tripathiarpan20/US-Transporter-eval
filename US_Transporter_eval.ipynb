{
  "nbformat": 4,
  "nbformat_minor": 0,
  "metadata": {
    "colab": {
      "name": "US-Transporter-eval.ipynb",
      "provenance": [],
      "collapsed_sections": [],
      "authorship_tag": "ABX9TyMBQ34799b0e4FoBoSPVE4R",
      "include_colab_link": true
    },
    "kernelspec": {
      "name": "python3",
      "display_name": "Python 3"
    },
    "language_info": {
      "name": "python"
    }
  },
  "cells": [
    {
      "cell_type": "markdown",
      "metadata": {
        "id": "view-in-github",
        "colab_type": "text"
      },
      "source": [
        "<a href=\"https://colab.research.google.com/github/tripathiarpan20/US-Transporter-eval/blob/main/US_Transporter_eval.ipynb\" target=\"_parent\"><img src=\"https://colab.research.google.com/assets/colab-badge.svg\" alt=\"Open In Colab\"/></a>"
      ]
    },
    {
      "cell_type": "code",
      "metadata": {
        "colab": {
          "base_uri": "https://localhost:8080/"
        },
        "id": "ZwIxlK6eM2-G",
        "outputId": "9455d463-3db1-4193-9ac2-af9c0476393f"
      },
      "source": [
        "%cd /content/\n",
        "!git clone --recursive https://github.com/tripathiarpan20/US-Transporter-eval.git\n",
        "%cd US-Transporter-eval\n",
        "!pip install -r requirements.txt\n",
        "!mv phasepack/phasepack/* phasepack/"
      ],
      "execution_count": null,
      "outputs": [
        {
          "output_type": "stream",
          "text": [
            "/content\n",
            "Cloning into 'US-Transporter-eval'...\n",
            "remote: Enumerating objects: 46, done.\u001b[K\n",
            "remote: Counting objects: 100% (46/46), done.\u001b[K\n",
            "remote: Compressing objects: 100% (33/33), done.\u001b[K\n",
            "remote: Total 46 (delta 17), reused 27 (delta 9), pack-reused 0\u001b[K\n",
            "Unpacking objects: 100% (46/46), done.\n",
            "Submodule 'phasepack' (https://github.com/alimuldal/phasepack.git) registered for path 'phasepack'\n",
            "Submodule 'pyssim' (https://github.com/jterrace/pyssim.git) registered for path 'pyssim'\n",
            "Cloning into '/content/US-Transporter-eval/phasepack'...\n",
            "remote: Enumerating objects: 74, done.        \n",
            "remote: Total 74 (delta 0), reused 0 (delta 0), pack-reused 74        \n",
            "Cloning into '/content/US-Transporter-eval/pyssim'...\n",
            "remote: Enumerating objects: 238, done.        \n",
            "remote: Total 238 (delta 0), reused 0 (delta 0), pack-reused 238        \n",
            "Receiving objects: 100% (238/238), 2.57 MiB | 20.75 MiB/s, done.\n",
            "Resolving deltas: 100% (119/119), done.\n",
            "Submodule path 'phasepack': checked out 'a7eaf26f4bd91b6cb7e3ac6cb93e9fd1c645e8de'\n",
            "Submodule path 'pyssim': checked out 'ff9bd90c3eb7525013ad46babf66b7cc78391e89'\n",
            "/content/US-Transporter-eval\n",
            "Requirement already satisfied: pandas in /usr/local/lib/python3.7/dist-packages (from -r requirements.txt (line 1)) (1.1.5)\n",
            "Requirement already satisfied: torch in /usr/local/lib/python3.7/dist-packages (from -r requirements.txt (line 2)) (1.9.0+cu102)\n",
            "Requirement already satisfied: torchtext in /usr/local/lib/python3.7/dist-packages (from -r requirements.txt (line 3)) (0.10.0)\n",
            "Requirement already satisfied: torchvision in /usr/local/lib/python3.7/dist-packages (from -r requirements.txt (line 4)) (0.10.0+cu102)\n",
            "Collecting pytorch_lightning\n",
            "  Downloading pytorch_lightning-1.4.2-py3-none-any.whl (916 kB)\n",
            "\u001b[K     |████████████████████████████████| 916 kB 5.6 MB/s \n",
            "\u001b[?25hCollecting pyfftw\n",
            "  Downloading pyFFTW-0.12.0-cp37-cp37m-manylinux1_x86_64.whl (2.6 MB)\n",
            "\u001b[K     |████████████████████████████████| 2.6 MB 37.5 MB/s \n",
            "\u001b[?25hCollecting av\n",
            "  Downloading av-8.0.3-cp37-cp37m-manylinux2010_x86_64.whl (37.2 MB)\n",
            "\u001b[K     |████████████████████████████████| 37.2 MB 30 kB/s \n",
            "\u001b[?25hRequirement already satisfied: scikit-image in /usr/local/lib/python3.7/dist-packages (from -r requirements.txt (line 8)) (0.16.2)\n",
            "Requirement already satisfied: numpy>=1.15.4 in /usr/local/lib/python3.7/dist-packages (from pandas->-r requirements.txt (line 1)) (1.19.5)\n",
            "Requirement already satisfied: pytz>=2017.2 in /usr/local/lib/python3.7/dist-packages (from pandas->-r requirements.txt (line 1)) (2018.9)\n",
            "Requirement already satisfied: python-dateutil>=2.7.3 in /usr/local/lib/python3.7/dist-packages (from pandas->-r requirements.txt (line 1)) (2.8.2)\n",
            "Requirement already satisfied: six>=1.5 in /usr/local/lib/python3.7/dist-packages (from python-dateutil>=2.7.3->pandas->-r requirements.txt (line 1)) (1.15.0)\n",
            "Requirement already satisfied: typing-extensions in /usr/local/lib/python3.7/dist-packages (from torch->-r requirements.txt (line 2)) (3.7.4.3)\n",
            "Requirement already satisfied: tqdm in /usr/local/lib/python3.7/dist-packages (from torchtext->-r requirements.txt (line 3)) (4.62.0)\n",
            "Requirement already satisfied: requests in /usr/local/lib/python3.7/dist-packages (from torchtext->-r requirements.txt (line 3)) (2.23.0)\n",
            "Requirement already satisfied: pillow>=5.3.0 in /usr/local/lib/python3.7/dist-packages (from torchvision->-r requirements.txt (line 4)) (7.1.2)\n",
            "Collecting pyDeprecate==0.3.1\n",
            "  Downloading pyDeprecate-0.3.1-py3-none-any.whl (10 kB)\n",
            "Requirement already satisfied: tensorboard>=2.2.0 in /usr/local/lib/python3.7/dist-packages (from pytorch_lightning->-r requirements.txt (line 5)) (2.6.0)\n",
            "Collecting future>=0.17.1\n",
            "  Downloading future-0.18.2.tar.gz (829 kB)\n",
            "\u001b[K     |████████████████████████████████| 829 kB 36.2 MB/s \n",
            "\u001b[?25hCollecting PyYAML>=5.1\n",
            "  Downloading PyYAML-5.4.1-cp37-cp37m-manylinux1_x86_64.whl (636 kB)\n",
            "\u001b[K     |████████████████████████████████| 636 kB 29.8 MB/s \n",
            "\u001b[?25hCollecting torchmetrics>=0.4.0\n",
            "  Downloading torchmetrics-0.5.0-py3-none-any.whl (272 kB)\n",
            "\u001b[K     |████████████████████████████████| 272 kB 42.1 MB/s \n",
            "\u001b[?25hRequirement already satisfied: packaging>=17.0 in /usr/local/lib/python3.7/dist-packages (from pytorch_lightning->-r requirements.txt (line 5)) (21.0)\n",
            "Collecting fsspec[http]!=2021.06.0,>=2021.05.0\n",
            "  Downloading fsspec-2021.7.0-py3-none-any.whl (118 kB)\n",
            "\u001b[K     |████████████████████████████████| 118 kB 54.9 MB/s \n",
            "\u001b[?25hCollecting aiohttp\n",
            "  Downloading aiohttp-3.7.4.post0-cp37-cp37m-manylinux2014_x86_64.whl (1.3 MB)\n",
            "\u001b[K     |████████████████████████████████| 1.3 MB 41.9 MB/s \n",
            "\u001b[?25hRequirement already satisfied: pyparsing>=2.0.2 in /usr/local/lib/python3.7/dist-packages (from packaging>=17.0->pytorch_lightning->-r requirements.txt (line 5)) (2.4.7)\n",
            "Requirement already satisfied: tensorboard-data-server<0.7.0,>=0.6.0 in /usr/local/lib/python3.7/dist-packages (from tensorboard>=2.2.0->pytorch_lightning->-r requirements.txt (line 5)) (0.6.1)\n",
            "Requirement already satisfied: google-auth<2,>=1.6.3 in /usr/local/lib/python3.7/dist-packages (from tensorboard>=2.2.0->pytorch_lightning->-r requirements.txt (line 5)) (1.34.0)\n",
            "Requirement already satisfied: werkzeug>=0.11.15 in /usr/local/lib/python3.7/dist-packages (from tensorboard>=2.2.0->pytorch_lightning->-r requirements.txt (line 5)) (1.0.1)\n",
            "Requirement already satisfied: absl-py>=0.4 in /usr/local/lib/python3.7/dist-packages (from tensorboard>=2.2.0->pytorch_lightning->-r requirements.txt (line 5)) (0.12.0)\n",
            "Requirement already satisfied: tensorboard-plugin-wit>=1.6.0 in /usr/local/lib/python3.7/dist-packages (from tensorboard>=2.2.0->pytorch_lightning->-r requirements.txt (line 5)) (1.8.0)\n",
            "Requirement already satisfied: grpcio>=1.24.3 in /usr/local/lib/python3.7/dist-packages (from tensorboard>=2.2.0->pytorch_lightning->-r requirements.txt (line 5)) (1.39.0)\n",
            "Requirement already satisfied: markdown>=2.6.8 in /usr/local/lib/python3.7/dist-packages (from tensorboard>=2.2.0->pytorch_lightning->-r requirements.txt (line 5)) (3.3.4)\n",
            "Requirement already satisfied: wheel>=0.26 in /usr/local/lib/python3.7/dist-packages (from tensorboard>=2.2.0->pytorch_lightning->-r requirements.txt (line 5)) (0.37.0)\n",
            "Requirement already satisfied: setuptools>=41.0.0 in /usr/local/lib/python3.7/dist-packages (from tensorboard>=2.2.0->pytorch_lightning->-r requirements.txt (line 5)) (57.4.0)\n",
            "Requirement already satisfied: protobuf>=3.6.0 in /usr/local/lib/python3.7/dist-packages (from tensorboard>=2.2.0->pytorch_lightning->-r requirements.txt (line 5)) (3.17.3)\n",
            "Requirement already satisfied: google-auth-oauthlib<0.5,>=0.4.1 in /usr/local/lib/python3.7/dist-packages (from tensorboard>=2.2.0->pytorch_lightning->-r requirements.txt (line 5)) (0.4.5)\n",
            "Requirement already satisfied: cachetools<5.0,>=2.0.0 in /usr/local/lib/python3.7/dist-packages (from google-auth<2,>=1.6.3->tensorboard>=2.2.0->pytorch_lightning->-r requirements.txt (line 5)) (4.2.2)\n",
            "Requirement already satisfied: pyasn1-modules>=0.2.1 in /usr/local/lib/python3.7/dist-packages (from google-auth<2,>=1.6.3->tensorboard>=2.2.0->pytorch_lightning->-r requirements.txt (line 5)) (0.2.8)\n",
            "Requirement already satisfied: rsa<5,>=3.1.4 in /usr/local/lib/python3.7/dist-packages (from google-auth<2,>=1.6.3->tensorboard>=2.2.0->pytorch_lightning->-r requirements.txt (line 5)) (4.7.2)\n",
            "Requirement already satisfied: requests-oauthlib>=0.7.0 in /usr/local/lib/python3.7/dist-packages (from google-auth-oauthlib<0.5,>=0.4.1->tensorboard>=2.2.0->pytorch_lightning->-r requirements.txt (line 5)) (1.3.0)\n",
            "Requirement already satisfied: importlib-metadata in /usr/local/lib/python3.7/dist-packages (from markdown>=2.6.8->tensorboard>=2.2.0->pytorch_lightning->-r requirements.txt (line 5)) (4.6.4)\n",
            "Requirement already satisfied: pyasn1<0.5.0,>=0.4.6 in /usr/local/lib/python3.7/dist-packages (from pyasn1-modules>=0.2.1->google-auth<2,>=1.6.3->tensorboard>=2.2.0->pytorch_lightning->-r requirements.txt (line 5)) (0.4.8)\n",
            "Requirement already satisfied: urllib3!=1.25.0,!=1.25.1,<1.26,>=1.21.1 in /usr/local/lib/python3.7/dist-packages (from requests->torchtext->-r requirements.txt (line 3)) (1.24.3)\n",
            "Requirement already satisfied: idna<3,>=2.5 in /usr/local/lib/python3.7/dist-packages (from requests->torchtext->-r requirements.txt (line 3)) (2.10)\n",
            "Requirement already satisfied: chardet<4,>=3.0.2 in /usr/local/lib/python3.7/dist-packages (from requests->torchtext->-r requirements.txt (line 3)) (3.0.4)\n",
            "Requirement already satisfied: certifi>=2017.4.17 in /usr/local/lib/python3.7/dist-packages (from requests->torchtext->-r requirements.txt (line 3)) (2021.5.30)\n",
            "Requirement already satisfied: oauthlib>=3.0.0 in /usr/local/lib/python3.7/dist-packages (from requests-oauthlib>=0.7.0->google-auth-oauthlib<0.5,>=0.4.1->tensorboard>=2.2.0->pytorch_lightning->-r requirements.txt (line 5)) (3.1.1)\n",
            "Requirement already satisfied: networkx>=2.0 in /usr/local/lib/python3.7/dist-packages (from scikit-image->-r requirements.txt (line 8)) (2.6.2)\n",
            "Requirement already satisfied: matplotlib!=3.0.0,>=2.0.0 in /usr/local/lib/python3.7/dist-packages (from scikit-image->-r requirements.txt (line 8)) (3.2.2)\n",
            "Requirement already satisfied: scipy>=0.19.0 in /usr/local/lib/python3.7/dist-packages (from scikit-image->-r requirements.txt (line 8)) (1.4.1)\n",
            "Requirement already satisfied: imageio>=2.3.0 in /usr/local/lib/python3.7/dist-packages (from scikit-image->-r requirements.txt (line 8)) (2.4.1)\n",
            "Requirement already satisfied: PyWavelets>=0.4.0 in /usr/local/lib/python3.7/dist-packages (from scikit-image->-r requirements.txt (line 8)) (1.1.1)\n",
            "Requirement already satisfied: cycler>=0.10 in /usr/local/lib/python3.7/dist-packages (from matplotlib!=3.0.0,>=2.0.0->scikit-image->-r requirements.txt (line 8)) (0.10.0)\n",
            "Requirement already satisfied: kiwisolver>=1.0.1 in /usr/local/lib/python3.7/dist-packages (from matplotlib!=3.0.0,>=2.0.0->scikit-image->-r requirements.txt (line 8)) (1.3.1)\n",
            "Collecting async-timeout<4.0,>=3.0\n",
            "  Downloading async_timeout-3.0.1-py3-none-any.whl (8.2 kB)\n",
            "Requirement already satisfied: attrs>=17.3.0 in /usr/local/lib/python3.7/dist-packages (from aiohttp->fsspec[http]!=2021.06.0,>=2021.05.0->pytorch_lightning->-r requirements.txt (line 5)) (21.2.0)\n",
            "Collecting multidict<7.0,>=4.5\n",
            "  Downloading multidict-5.1.0-cp37-cp37m-manylinux2014_x86_64.whl (142 kB)\n",
            "\u001b[K     |████████████████████████████████| 142 kB 72.6 MB/s \n",
            "\u001b[?25hCollecting yarl<2.0,>=1.0\n",
            "  Downloading yarl-1.6.3-cp37-cp37m-manylinux2014_x86_64.whl (294 kB)\n",
            "\u001b[K     |████████████████████████████████| 294 kB 55.5 MB/s \n",
            "\u001b[?25hRequirement already satisfied: zipp>=0.5 in /usr/local/lib/python3.7/dist-packages (from importlib-metadata->markdown>=2.6.8->tensorboard>=2.2.0->pytorch_lightning->-r requirements.txt (line 5)) (3.5.0)\n",
            "Building wheels for collected packages: future\n",
            "  Building wheel for future (setup.py) ... \u001b[?25l\u001b[?25hdone\n",
            "  Created wheel for future: filename=future-0.18.2-py3-none-any.whl size=491070 sha256=fc43f45612bad39e7a8bd508a4aa065ce961b898062c6338f4824ddd323ae7a1\n",
            "  Stored in directory: /root/.cache/pip/wheels/56/b0/fe/4410d17b32f1f0c3cf54cdfb2bc04d7b4b8f4ae377e2229ba0\n",
            "Successfully built future\n",
            "Installing collected packages: multidict, yarl, async-timeout, fsspec, aiohttp, torchmetrics, PyYAML, pyDeprecate, future, pytorch-lightning, pyfftw, av\n",
            "  Attempting uninstall: PyYAML\n",
            "    Found existing installation: PyYAML 3.13\n",
            "    Uninstalling PyYAML-3.13:\n",
            "      Successfully uninstalled PyYAML-3.13\n",
            "  Attempting uninstall: future\n",
            "    Found existing installation: future 0.16.0\n",
            "    Uninstalling future-0.16.0:\n",
            "      Successfully uninstalled future-0.16.0\n",
            "Successfully installed PyYAML-5.4.1 aiohttp-3.7.4.post0 async-timeout-3.0.1 av-8.0.3 fsspec-2021.7.0 future-0.18.2 multidict-5.1.0 pyDeprecate-0.3.1 pyfftw-0.12.0 pytorch-lightning-1.4.2 torchmetrics-0.5.0 yarl-1.6.3\n"
          ],
          "name": "stdout"
        }
      ]
    },
    {
      "cell_type": "code",
      "metadata": {
        "colab": {
          "base_uri": "https://localhost:8080/"
        },
        "id": "nya6SqaYM5Ds",
        "outputId": "d2b244ab-93bc-4c63-dce0-b6017d14b5d1"
      },
      "source": [
        "#LUS weighted \n",
        "!gdown --id 1HBuTOm_5-p7VrpYWYYPoJp2epQvbyPl9\n",
        "\n",
        "#WUS weighted\n",
        "!gdown --id 1TMMNh6Vp07ejBDInsar5wXhljs9q7T57"
      ],
      "execution_count": null,
      "outputs": [
        {
          "output_type": "stream",
          "text": [
            "Downloading...\n",
            "From: https://drive.google.com/uc?id=1HBuTOm_5-p7VrpYWYYPoJp2epQvbyPl9\n",
            "To: /content/US-Transporter-eval/ckpt_TPRv1_LUS_radonbpm_lr0.0001_LUS_nossim_dptdecay_samrate10_VER_HORIZ_weightedHlam_radonbpm_-epoch=59-val_loss=0.00012.ckpt\n",
            "11.0MB [00:00, 67.4MB/s]\n",
            "Downloading...\n",
            "From: https://drive.google.com/uc?id=1TMMNh6Vp07ejBDInsar5wXhljs9q7T57\n",
            "To: /content/US-Transporter-eval/wrist_ckpt_TPRv1_lr0.0001_idxcsv_dptdecay_samrate=10_weightedHlam_15+3j_radon&bpm_-epoch=59-val_loss=0.00017.ckpt\n",
            "11.0MB [00:00, 66.9MB/s]\n"
          ],
          "name": "stdout"
        }
      ]
    },
    {
      "cell_type": "code",
      "metadata": {
        "colab": {
          "base_uri": "https://localhost:8080/"
        },
        "id": "lVfLHctGQCdv",
        "outputId": "763ed578-f057-4151-b8ee-cc8562cff224"
      },
      "source": [
        "#LUS sample data\n",
        "!gdown --id 11ZRVaMatUbYDI7IhK-Boq1yVWcKQHm8b\n",
        "\n",
        "#WUS sample data\n",
        "!gdown --id 1XTrF7wW8wxWLkNT6ZC9xHeh6uQl2rQTa\n"
      ],
      "execution_count": null,
      "outputs": [
        {
          "output_type": "stream",
          "text": [
            "Downloading...\n",
            "From: https://drive.google.com/uc?id=11ZRVaMatUbYDI7IhK-Boq1yVWcKQHm8b\n",
            "To: /content/US-Transporter-eval/LUS.zip\n",
            "4.83MB [00:00, 15.4MB/s]\n",
            "Downloading...\n",
            "From: https://drive.google.com/uc?id=1XTrF7wW8wxWLkNT6ZC9xHeh6uQl2rQTa\n",
            "To: /content/US-Transporter-eval/WUS.zip\n",
            "100% 705k/705k [00:00<00:00, 45.5MB/s]\n"
          ],
          "name": "stdout"
        }
      ]
    },
    {
      "cell_type": "code",
      "metadata": {
        "colab": {
          "base_uri": "https://localhost:8080/"
        },
        "id": "xNiU-MqKNrV5",
        "outputId": "2d8ca31b-58f7-4153-bd97-eab7c2bd75e8"
      },
      "source": [
        "!unzip LUS.zip -d LUS/"
      ],
      "execution_count": null,
      "outputs": [
        {
          "output_type": "stream",
          "text": [
            "Archive:  LUS.zip\n",
            "  inflating: LUS/13089_2020_185_Fig3_HTML.jpg  \n",
            "  inflating: LUS/B-lines-and-lung-rockets-Typical-multiple-B-lines-This-figure-shows-the-7-features-of_Q640.jpg  \n",
            "  inflating: LUS/Vid18.mp4           \n"
          ],
          "name": "stdout"
        }
      ]
    },
    {
      "cell_type": "code",
      "metadata": {
        "colab": {
          "base_uri": "https://localhost:8080/"
        },
        "id": "e9_O2ZinQGr8",
        "outputId": "8ce7abd0-b04a-4520-bb08-c09b45bc3081"
      },
      "source": [
        "!unzip WUS.zip -d WUS/"
      ],
      "execution_count": null,
      "outputs": [
        {
          "output_type": "stream",
          "text": [
            "Archive:  WUS.zip\n",
            "  inflating: WUS/011-wristDorSag-31L-5.mp4  \n"
          ],
          "name": "stdout"
        }
      ]
    },
    {
      "cell_type": "code",
      "metadata": {
        "colab": {
          "base_uri": "https://localhost:8080/"
        },
        "id": "m_y_6vtfN8Kh",
        "outputId": "57b1d42a-dd8e-47fa-b1d5-ac56441d33c1"
      },
      "source": [
        "!python eval_LUS.py --vid '/content/US-Transporter-eval/LUS/Vid18.mp4' --frame_no 50 --device 'cpu' --ckpt '/content/US-Transporter-eval/ckpt_TPRv1_LUS_radonbpm_lr0.0001_LUS_nossim_dptdecay_samrate10_VER_HORIZ_weightedHlam_radonbpm_-epoch=59-val_loss=0.00012.ckpt'"
      ],
      "execution_count": null,
      "outputs": [
        {
          "output_type": "stream",
          "text": [
            "importing ssim\n",
            "imported ssim\n",
            "importing torchradon\n",
            "imported torchradon\n",
            "Check 1\n",
            "Namespace(ckpt='/content/US-Transporter-eval/ckpt_TPRv1_LUS_radonbpm_lr0.0001_LUS_nossim_dptdecay_samrate10_VER_HORIZ_weightedHlam_radonbpm_-epoch=59-val_loss=0.00012.ckpt', device='cpu', frame_no=50, img='', vid='/content/US-Transporter-eval/LUS/Vid18.mp4')\n",
            "Initial Hlam weights are: Parameter containing:\n",
            "tensor([[[[0.1000]],\n",
            "\n",
            "         [[0.1000]],\n",
            "\n",
            "         [[0.1000]],\n",
            "\n",
            "         [[0.1000]],\n",
            "\n",
            "         [[0.1000]],\n",
            "\n",
            "         [[0.1000]],\n",
            "\n",
            "         [[0.1000]],\n",
            "\n",
            "         [[0.1000]],\n",
            "\n",
            "         [[0.1000]],\n",
            "\n",
            "         [[0.1000]]]], requires_grad=True)\n",
            "torch.Size([3, 256, 256])\n",
            "torch.Size([3, 256, 256])\n",
            "torch.Size([3, 256, 256])\n",
            "returned\n",
            "recieved_vid_frame\n",
            "output/frame50Vid18.jpg\n"
          ],
          "name": "stdout"
        }
      ]
    },
    {
      "cell_type": "code",
      "metadata": {
        "colab": {
          "base_uri": "https://localhost:8080/"
        },
        "id": "Od0v7it6OY5u",
        "outputId": "ea9f4146-9383-48e1-e02b-658f7d414a83"
      },
      "source": [
        "!python eval_LUS.py --img '/content/US-Transporter-eval/LUS/B-lines-and-lung-rockets-Typical-multiple-B-lines-This-figure-shows-the-7-features-of_Q640.jpg' --device 'cpu' --ckpt '/content/US-Transporter-eval/ckpt_TPRv1_LUS_radonbpm_lr0.0001_LUS_nossim_dptdecay_samrate10_VER_HORIZ_weightedHlam_radonbpm_-epoch=59-val_loss=0.00012.ckpt'"
      ],
      "execution_count": null,
      "outputs": [
        {
          "output_type": "stream",
          "text": [
            "importing ssim\n",
            "imported ssim\n",
            "importing torchradon\n",
            "imported torchradon\n",
            "Check 1\n",
            "Namespace(ckpt='/content/US-Transporter-eval/ckpt_TPRv1_LUS_radonbpm_lr0.0001_LUS_nossim_dptdecay_samrate10_VER_HORIZ_weightedHlam_radonbpm_-epoch=59-val_loss=0.00012.ckpt', device='cpu', frame_no=-1, img='/content/US-Transporter-eval/LUS/B-lines-and-lung-rockets-Typical-multiple-B-lines-This-figure-shows-the-7-features-of_Q640.jpg', vid='')\n",
            "Initial Hlam weights are: Parameter containing:\n",
            "tensor([[[[0.1000]],\n",
            "\n",
            "         [[0.1000]],\n",
            "\n",
            "         [[0.1000]],\n",
            "\n",
            "         [[0.1000]],\n",
            "\n",
            "         [[0.1000]],\n",
            "\n",
            "         [[0.1000]],\n",
            "\n",
            "         [[0.1000]],\n",
            "\n",
            "         [[0.1000]],\n",
            "\n",
            "         [[0.1000]],\n",
            "\n",
            "         [[0.1000]]]], requires_grad=True)\n",
            "(515, 515)\n",
            "torch.Size([1, 256, 256])\n",
            "torch.Size([3, 256, 256])\n",
            "torch.Size([3, 256, 256])\n",
            "returned\n",
            "recieved_img\n",
            "output/B-lines-and-lung-rockets-Typical-multiple-B-lines-This-figure-shows-the-7-features-of_Q640.jpg\n"
          ],
          "name": "stdout"
        }
      ]
    },
    {
      "cell_type": "code",
      "metadata": {
        "colab": {
          "base_uri": "https://localhost:8080/"
        },
        "id": "uiFW2hTKP2It",
        "outputId": "19c6ed1b-342b-4eca-a911-763c639c3848"
      },
      "source": [
        "!python eval_LUS.py --img '/content/US-Transporter-eval/LUS/13089_2020_185_Fig3_HTML.jpg' --device 'cpu' --ckpt '/content/US-Transporter-eval/ckpt_TPRv1_LUS_radonbpm_lr0.0001_LUS_nossim_dptdecay_samrate10_VER_HORIZ_weightedHlam_radonbpm_-epoch=59-val_loss=0.00012.ckpt'"
      ],
      "execution_count": null,
      "outputs": [
        {
          "output_type": "stream",
          "text": [
            "importing ssim\n",
            "imported ssim\n",
            "importing torchradon\n",
            "imported torchradon\n",
            "Check 1\n",
            "Namespace(ckpt='/content/US-Transporter-eval/ckpt_TPRv1_LUS_radonbpm_lr0.0001_LUS_nossim_dptdecay_samrate10_VER_HORIZ_weightedHlam_radonbpm_-epoch=59-val_loss=0.00012.ckpt', device='cpu', frame_no=-1, img='/content/US-Transporter-eval/LUS/13089_2020_185_Fig3_HTML.jpg', vid='')\n",
            "Initial Hlam weights are: Parameter containing:\n",
            "tensor([[[[0.1000]],\n",
            "\n",
            "         [[0.1000]],\n",
            "\n",
            "         [[0.1000]],\n",
            "\n",
            "         [[0.1000]],\n",
            "\n",
            "         [[0.1000]],\n",
            "\n",
            "         [[0.1000]],\n",
            "\n",
            "         [[0.1000]],\n",
            "\n",
            "         [[0.1000]],\n",
            "\n",
            "         [[0.1000]],\n",
            "\n",
            "         [[0.1000]]]], requires_grad=True)\n",
            "(604, 685, 3)\n",
            "torch.Size([1, 256, 256])\n",
            "torch.Size([3, 256, 256])\n",
            "torch.Size([3, 256, 256])\n",
            "returned\n",
            "recieved_img\n",
            "output/13089_2020_185_Fig3_HTML.jpg\n"
          ],
          "name": "stdout"
        }
      ]
    },
    {
      "cell_type": "code",
      "metadata": {
        "colab": {
          "base_uri": "https://localhost:8080/"
        },
        "id": "qP2wVYTIQXiE",
        "outputId": "e87243bc-c8c8-4b35-ccf3-29e73783f336"
      },
      "source": [
        "!python eval_WUS.py --vid '/content/US-Transporter-eval/WUS/011-wristDorSag-31L-5.mp4' --frame_no 60 --device 'cpu' --ckpt '/content/US-Transporter-eval/ckpt_TPRv1_LUS_radonbpm_lr0.0001_LUS_nossim_dptdecay_samrate10_VER_HORIZ_weightedHlam_radonbpm_-epoch=59-val_loss=0.00012.ckpt'"
      ],
      "execution_count": null,
      "outputs": [
        {
          "output_type": "stream",
          "text": [
            "importing ssim\n",
            "imported ssim\n",
            "importing torchradon\n",
            "imported torchradon\n",
            "Check 1\n",
            "Namespace(ckpt='/content/US-Transporter-eval/ckpt_TPRv1_LUS_radonbpm_lr0.0001_LUS_nossim_dptdecay_samrate10_VER_HORIZ_weightedHlam_radonbpm_-epoch=59-val_loss=0.00012.ckpt', device='cpu', frame_no=60, img='', vid='/content/US-Transporter-eval/WUS/011-wristDorSag-31L-5.mp4')\n",
            "Initial Hlam weights are: Parameter containing:\n",
            "tensor([[[[0.1000]],\n",
            "\n",
            "         [[0.1000]],\n",
            "\n",
            "         [[0.1000]],\n",
            "\n",
            "         [[0.1000]],\n",
            "\n",
            "         [[0.1000]],\n",
            "\n",
            "         [[0.1000]],\n",
            "\n",
            "         [[0.1000]],\n",
            "\n",
            "         [[0.1000]],\n",
            "\n",
            "         [[0.1000]],\n",
            "\n",
            "         [[0.1000]]]], requires_grad=True)\n",
            "torch.Size([3, 256, 256])\n",
            "torch.Size([3, 256, 256])\n",
            "torch.Size([3, 256, 256])\n",
            "returned\n",
            "recieved_vid_frame\n",
            "output/frame60011-wristDorSag-31L-5.jpg\n"
          ],
          "name": "stdout"
        }
      ]
    },
    {
      "cell_type": "code",
      "metadata": {
        "id": "yv0hJvmwRcfT"
      },
      "source": [
        ""
      ],
      "execution_count": null,
      "outputs": []
    }
  ]
}